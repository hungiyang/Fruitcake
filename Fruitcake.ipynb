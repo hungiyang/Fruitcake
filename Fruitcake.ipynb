{
 "cells": [
  {
   "cell_type": "markdown",
   "metadata": {},
   "source": [
    "# Guess the Weight of the Fruitcake\n",
    "\n",
    "* Phil doesn't own any bathroom scales but would quite like to know how much he weighs. In this project we will use the wisdom of the crowd by asking the AHW2015 class nicely to estimate his height, and then build a model for the system in order to carry out a blind inference of his weight, in pounds.\n",
    "\n",
    "* Central to this insane methodology is the concept of [\"body mass index\"](https://www.nhlbi.nih.gov/health/educational/lose_wt/BMI/bmicalc.htm), which relates a person's height to their weight via the degree to which they are \"overweight\". Let's ask people how tall they think Phil is, and also how overweight he is, and then infer his weight."
   ]
  },
  {
   "cell_type": "markdown",
   "metadata": {},
   "source": [
    "## Data Collection\n",
    "\n",
    "If you'd like to contribute an estimate of Phil's height and obesity (plus some auxiliary data), please fill out the form [here](http://goo.gl/forms/a7Pe3bZFrD)."
   ]
  },
  {
   "cell_type": "markdown",
   "metadata": {},
   "source": [
    "## Data Visualization\n",
    "\n",
    "* Let's download the form responses, read them in as a Pandas dataframe, and make some plots."
   ]
  },
  {
   "cell_type": "code",
   "execution_count": null,
   "metadata": {
    "collapsed": false
   },
   "outputs": [],
   "source": [
    "!wget --no-check-certificate -O data.csv \"https://docs.google.com/spreadsheets/d/1IMYHSyyDTh-Nf0y_gix0cbseMvep9C5XgItezvqLpRw/export?format=csv\""
   ]
  },
  {
   "cell_type": "code",
   "execution_count": 1,
   "metadata": {
    "collapsed": false
   },
   "outputs": [],
   "source": [
    "import numpy as np\n",
    "import pandas as pd\n",
    "%load_ext autoreload\n",
    "%autoreload 2"
   ]
  },
  {
   "cell_type": "code",
   "execution_count": 2,
   "metadata": {
    "collapsed": false
   },
   "outputs": [
    {
     "data": {
      "text/html": [
       "<div>\n",
       "<table border=\"1\" class=\"dataframe\">\n",
       "  <thead>\n",
       "    <tr style=\"text-align: right;\">\n",
       "      <th></th>\n",
       "      <th>Timestamp</th>\n",
       "      <th>What do you think Phil's height is?</th>\n",
       "      <th>Is Phil...</th>\n",
       "      <th>What do you think Phil's age is?</th>\n",
       "      <th>What is your first name?</th>\n",
       "      <th>What is your own height?</th>\n",
       "      <th>What is your own weight?</th>\n",
       "      <th>What is your own age?</th>\n",
       "      <th>Which is the best text editor?</th>\n",
       "    </tr>\n",
       "  </thead>\n",
       "  <tbody>\n",
       "    <tr>\n",
       "      <th>0</th>\n",
       "      <td>9/28/2015 17:32:57</td>\n",
       "      <td>185.0</td>\n",
       "      <td>Just right</td>\n",
       "      <td>40</td>\n",
       "      <td>John</td>\n",
       "      <td>172</td>\n",
       "      <td>148</td>\n",
       "      <td>35</td>\n",
       "      <td>Sublime</td>\n",
       "    </tr>\n",
       "    <tr>\n",
       "      <th>1</th>\n",
       "      <td>9/28/2015 17:47:11</td>\n",
       "      <td>195.6</td>\n",
       "      <td>Just right</td>\n",
       "      <td>44</td>\n",
       "      <td>Lia</td>\n",
       "      <td>160</td>\n",
       "      <td>130</td>\n",
       "      <td>31</td>\n",
       "      <td>emacs</td>\n",
       "    </tr>\n",
       "    <tr>\n",
       "      <th>2</th>\n",
       "      <td>9/28/2015 17:52:27</td>\n",
       "      <td>185.0</td>\n",
       "      <td>Just right</td>\n",
       "      <td>37</td>\n",
       "      <td>NaN</td>\n",
       "      <td>182</td>\n",
       "      <td>178</td>\n",
       "      <td>28</td>\n",
       "      <td>vim</td>\n",
       "    </tr>\n",
       "    <tr>\n",
       "      <th>3</th>\n",
       "      <td>9/28/2015 17:57:23</td>\n",
       "      <td>180.5</td>\n",
       "      <td>Just right</td>\n",
       "      <td>39</td>\n",
       "      <td>Rebecca</td>\n",
       "      <td>161</td>\n",
       "      <td>145</td>\n",
       "      <td>26</td>\n",
       "      <td>SUBLIME OBVIOUSLY</td>\n",
       "    </tr>\n",
       "    <tr>\n",
       "      <th>4</th>\n",
       "      <td>9/28/2015 18:02:57</td>\n",
       "      <td>180.0</td>\n",
       "      <td>Just right</td>\n",
       "      <td>40</td>\n",
       "      <td>Somebody</td>\n",
       "      <td>173</td>\n",
       "      <td>220</td>\n",
       "      <td>39</td>\n",
       "      <td>vim</td>\n",
       "    </tr>\n",
       "  </tbody>\n",
       "</table>\n",
       "</div>"
      ],
      "text/plain": [
       "            Timestamp  What do you think Phil's height is?  Is Phil...  \\\n",
       "0  9/28/2015 17:32:57                                185.0  Just right   \n",
       "1  9/28/2015 17:47:11                                195.6  Just right   \n",
       "2  9/28/2015 17:52:27                                185.0  Just right   \n",
       "3  9/28/2015 17:57:23                                180.5  Just right   \n",
       "4  9/28/2015 18:02:57                                180.0  Just right   \n",
       "\n",
       "   What do you think Phil's age is? What is your first name?  \\\n",
       "0                                40                     John   \n",
       "1                                44                      Lia   \n",
       "2                                37                      NaN   \n",
       "3                                39                  Rebecca   \n",
       "4                                40                 Somebody   \n",
       "\n",
       "  What is your own height?  What is your own weight?  What is your own age?  \\\n",
       "0                      172                       148                     35   \n",
       "1                      160                       130                     31   \n",
       "2                      182                       178                     28   \n",
       "3                      161                       145                     26   \n",
       "4                      173                       220                     39   \n",
       "\n",
       "  Which is the best text editor?  \n",
       "0                        Sublime  \n",
       "1                          emacs  \n",
       "2                            vim  \n",
       "3              SUBLIME OBVIOUSLY  \n",
       "4                            vim  "
      ]
     },
     "execution_count": 2,
     "metadata": {},
     "output_type": "execute_result"
    }
   ],
   "source": [
    "data = pd.read_csv(\"data.csv\")\n",
    "data.head()"
   ]
  },
  {
   "cell_type": "code",
   "execution_count": 3,
   "metadata": {
    "collapsed": false
   },
   "outputs": [
    {
     "name": "stderr",
     "output_type": "stream",
     "text": [
      "/home/eric/miniconda/lib/python2.7/site-packages/ipykernel/__main__.py:7: SettingWithCopyWarning: \n",
      "A value is trying to be set on a copy of a slice from a DataFrame\n",
      "\n",
      "See the the caveats in the documentation: http://pandas.pydata.org/pandas-docs/stable/indexing.html#indexing-view-versus-copy\n"
     ]
    },
    {
     "data": {
      "text/html": [
       "<div>\n",
       "<table border=\"1\" class=\"dataframe\">\n",
       "  <thead>\n",
       "    <tr style=\"text-align: right;\">\n",
       "      <th></th>\n",
       "      <th>t</th>\n",
       "      <th>height</th>\n",
       "      <th>obesity</th>\n",
       "      <th>age</th>\n",
       "      <th>name</th>\n",
       "      <th>ownheight</th>\n",
       "      <th>ownweight</th>\n",
       "      <th>ownage</th>\n",
       "      <th>editor</th>\n",
       "    </tr>\n",
       "  </thead>\n",
       "  <tbody>\n",
       "    <tr>\n",
       "      <th>0</th>\n",
       "      <td>9/28/2015 17:32:57</td>\n",
       "      <td>185.00</td>\n",
       "      <td>Normal</td>\n",
       "      <td>40</td>\n",
       "      <td>John</td>\n",
       "      <td>172</td>\n",
       "      <td>148</td>\n",
       "      <td>35</td>\n",
       "      <td>Sublime</td>\n",
       "    </tr>\n",
       "    <tr>\n",
       "      <th>1</th>\n",
       "      <td>9/28/2015 17:47:11</td>\n",
       "      <td>195.60</td>\n",
       "      <td>Normal</td>\n",
       "      <td>44</td>\n",
       "      <td>Lia</td>\n",
       "      <td>160</td>\n",
       "      <td>130</td>\n",
       "      <td>31</td>\n",
       "      <td>emacs</td>\n",
       "    </tr>\n",
       "    <tr>\n",
       "      <th>2</th>\n",
       "      <td>9/28/2015 17:52:27</td>\n",
       "      <td>185.00</td>\n",
       "      <td>Normal</td>\n",
       "      <td>37</td>\n",
       "      <td>NaN</td>\n",
       "      <td>182</td>\n",
       "      <td>178</td>\n",
       "      <td>28</td>\n",
       "      <td>vim</td>\n",
       "    </tr>\n",
       "    <tr>\n",
       "      <th>3</th>\n",
       "      <td>9/28/2015 17:57:23</td>\n",
       "      <td>180.50</td>\n",
       "      <td>Normal</td>\n",
       "      <td>39</td>\n",
       "      <td>Rebecca</td>\n",
       "      <td>161</td>\n",
       "      <td>145</td>\n",
       "      <td>26</td>\n",
       "      <td>SUBLIME OBVIOUSLY</td>\n",
       "    </tr>\n",
       "    <tr>\n",
       "      <th>4</th>\n",
       "      <td>9/28/2015 18:02:57</td>\n",
       "      <td>180.00</td>\n",
       "      <td>Normal</td>\n",
       "      <td>40</td>\n",
       "      <td>Somebody</td>\n",
       "      <td>173</td>\n",
       "      <td>220</td>\n",
       "      <td>39</td>\n",
       "      <td>vim</td>\n",
       "    </tr>\n",
       "    <tr>\n",
       "      <th>5</th>\n",
       "      <td>9/28/2015 18:03:04</td>\n",
       "      <td>171.00</td>\n",
       "      <td>Normal</td>\n",
       "      <td>38</td>\n",
       "      <td>Brendon</td>\n",
       "      <td>170</td>\n",
       "      <td>150</td>\n",
       "      <td>32</td>\n",
       "      <td>gedit</td>\n",
       "    </tr>\n",
       "    <tr>\n",
       "      <th>6</th>\n",
       "      <td>9/28/2015 18:03:29</td>\n",
       "      <td>185.00</td>\n",
       "      <td>Normal</td>\n",
       "      <td>41</td>\n",
       "      <td>Simeon</td>\n",
       "      <td>182</td>\n",
       "      <td>120</td>\n",
       "      <td>31</td>\n",
       "      <td>vim</td>\n",
       "    </tr>\n",
       "    <tr>\n",
       "      <th>7</th>\n",
       "      <td>9/28/2015 18:04:00</td>\n",
       "      <td>190.00</td>\n",
       "      <td>Normal</td>\n",
       "      <td>40</td>\n",
       "      <td>Abbie</td>\n",
       "      <td>173</td>\n",
       "      <td>157</td>\n",
       "      <td>25</td>\n",
       "      <td>TextWrangler</td>\n",
       "    </tr>\n",
       "    <tr>\n",
       "      <th>8</th>\n",
       "      <td>9/28/2015 18:04:06</td>\n",
       "      <td>180.00</td>\n",
       "      <td>Normal</td>\n",
       "      <td>40</td>\n",
       "      <td>Nina</td>\n",
       "      <td>160</td>\n",
       "      <td>121</td>\n",
       "      <td>32</td>\n",
       "      <td>Kate</td>\n",
       "    </tr>\n",
       "    <tr>\n",
       "      <th>9</th>\n",
       "      <td>9/28/2015 18:06:35</td>\n",
       "      <td>180.30</td>\n",
       "      <td>Underweight</td>\n",
       "      <td>36</td>\n",
       "      <td>Adam</td>\n",
       "      <td>188</td>\n",
       "      <td>160</td>\n",
       "      <td>31</td>\n",
       "      <td>textmate (?)</td>\n",
       "    </tr>\n",
       "    <tr>\n",
       "      <th>10</th>\n",
       "      <td>9/28/2015 18:07:00</td>\n",
       "      <td>185.00</td>\n",
       "      <td>Normal</td>\n",
       "      <td>38</td>\n",
       "      <td>NaN</td>\n",
       "      <td>160</td>\n",
       "      <td>154</td>\n",
       "      <td>27</td>\n",
       "      <td>Eric</td>\n",
       "    </tr>\n",
       "    <tr>\n",
       "      <th>11</th>\n",
       "      <td>9/28/2015 18:10:13</td>\n",
       "      <td>170.00</td>\n",
       "      <td>Underweight</td>\n",
       "      <td>45</td>\n",
       "      <td>NaN</td>\n",
       "      <td>165</td>\n",
       "      <td>145</td>\n",
       "      <td>31</td>\n",
       "      <td>emacs</td>\n",
       "    </tr>\n",
       "    <tr>\n",
       "      <th>12</th>\n",
       "      <td>9/28/2015 18:11:49</td>\n",
       "      <td>179.00</td>\n",
       "      <td>Normal</td>\n",
       "      <td>46</td>\n",
       "      <td>Juan</td>\n",
       "      <td>1,72</td>\n",
       "      <td>178</td>\n",
       "      <td>25</td>\n",
       "      <td>Vim</td>\n",
       "    </tr>\n",
       "    <tr>\n",
       "      <th>13</th>\n",
       "      <td>9/28/2015 18:15:18</td>\n",
       "      <td>179.00</td>\n",
       "      <td>Normal</td>\n",
       "      <td>46</td>\n",
       "      <td>Juan</td>\n",
       "      <td>172</td>\n",
       "      <td>178</td>\n",
       "      <td>25</td>\n",
       "      <td>Vim</td>\n",
       "    </tr>\n",
       "    <tr>\n",
       "      <th>14</th>\n",
       "      <td>9/28/2015 18:18:24</td>\n",
       "      <td>186.00</td>\n",
       "      <td>Normal</td>\n",
       "      <td>47</td>\n",
       "      <td>Maria</td>\n",
       "      <td>155</td>\n",
       "      <td>108</td>\n",
       "      <td>27</td>\n",
       "      <td>gedit</td>\n",
       "    </tr>\n",
       "    <tr>\n",
       "      <th>15</th>\n",
       "      <td>9/28/2015 18:45:00</td>\n",
       "      <td>188.00</td>\n",
       "      <td>Normal</td>\n",
       "      <td>53</td>\n",
       "      <td>NaN</td>\n",
       "      <td>NaN</td>\n",
       "      <td>NaN</td>\n",
       "      <td>NaN</td>\n",
       "      <td>emacs</td>\n",
       "    </tr>\n",
       "    <tr>\n",
       "      <th>16</th>\n",
       "      <td>9/28/2015 19:15:31</td>\n",
       "      <td>178.00</td>\n",
       "      <td>Underweight</td>\n",
       "      <td>48</td>\n",
       "      <td>Herman</td>\n",
       "      <td>190</td>\n",
       "      <td>205</td>\n",
       "      <td>59</td>\n",
       "      <td>TextWrangler</td>\n",
       "    </tr>\n",
       "    <tr>\n",
       "      <th>17</th>\n",
       "      <td>9/28/2015 20:07:22</td>\n",
       "      <td>184.00</td>\n",
       "      <td>Overweight</td>\n",
       "      <td>38</td>\n",
       "      <td>Kyle</td>\n",
       "      <td>178</td>\n",
       "      <td>155</td>\n",
       "      <td>34</td>\n",
       "      <td>All terrible</td>\n",
       "    </tr>\n",
       "    <tr>\n",
       "      <th>18</th>\n",
       "      <td>9/28/2015 20:44:57</td>\n",
       "      <td>172.00</td>\n",
       "      <td>Overweight</td>\n",
       "      <td>39</td>\n",
       "      <td>Kelle</td>\n",
       "      <td>162</td>\n",
       "      <td>150</td>\n",
       "      <td>37</td>\n",
       "      <td>Textmate</td>\n",
       "    </tr>\n",
       "    <tr>\n",
       "      <th>19</th>\n",
       "      <td>9/28/2015 21:07:19</td>\n",
       "      <td>170.00</td>\n",
       "      <td>Overweight</td>\n",
       "      <td>57</td>\n",
       "      <td>NaN</td>\n",
       "      <td>NaN</td>\n",
       "      <td>NaN</td>\n",
       "      <td>NaN</td>\n",
       "      <td>Sublime</td>\n",
       "    </tr>\n",
       "    <tr>\n",
       "      <th>20</th>\n",
       "      <td>9/28/2015 21:37:17</td>\n",
       "      <td>190.00</td>\n",
       "      <td>Overweight</td>\n",
       "      <td>40</td>\n",
       "      <td>Dlug</td>\n",
       "      <td>196</td>\n",
       "      <td>194</td>\n",
       "      <td>44</td>\n",
       "      <td>emacs</td>\n",
       "    </tr>\n",
       "    <tr>\n",
       "      <th>21</th>\n",
       "      <td>9/28/2015 21:52:08</td>\n",
       "      <td>178.00</td>\n",
       "      <td>Underweight</td>\n",
       "      <td>38</td>\n",
       "      <td>Nick</td>\n",
       "      <td>182</td>\n",
       "      <td>165</td>\n",
       "      <td>26</td>\n",
       "      <td>gedit</td>\n",
       "    </tr>\n",
       "    <tr>\n",
       "      <th>22</th>\n",
       "      <td>9/28/2015 22:02:11</td>\n",
       "      <td>186.00</td>\n",
       "      <td>Overweight</td>\n",
       "      <td>38</td>\n",
       "      <td>NaN</td>\n",
       "      <td>163</td>\n",
       "      <td>110</td>\n",
       "      <td>29</td>\n",
       "      <td>vim</td>\n",
       "    </tr>\n",
       "    <tr>\n",
       "      <th>23</th>\n",
       "      <td>9/28/2015 22:24:44</td>\n",
       "      <td>172.72</td>\n",
       "      <td>Normal</td>\n",
       "      <td>41</td>\n",
       "      <td>NaN</td>\n",
       "      <td>175</td>\n",
       "      <td>150</td>\n",
       "      <td>35</td>\n",
       "      <td>vi</td>\n",
       "    </tr>\n",
       "    <tr>\n",
       "      <th>24</th>\n",
       "      <td>9/28/2015 22:31:21</td>\n",
       "      <td>174.00</td>\n",
       "      <td>Underweight</td>\n",
       "      <td>38</td>\n",
       "      <td>João</td>\n",
       "      <td>188</td>\n",
       "      <td>187</td>\n",
       "      <td>25</td>\n",
       "      <td>Sublime Text</td>\n",
       "    </tr>\n",
       "    <tr>\n",
       "      <th>25</th>\n",
       "      <td>9/28/2015 22:32:00</td>\n",
       "      <td>178.00</td>\n",
       "      <td>Normal</td>\n",
       "      <td>39</td>\n",
       "      <td>Gilles</td>\n",
       "      <td>172</td>\n",
       "      <td>85</td>\n",
       "      <td>28</td>\n",
       "      <td>cat</td>\n",
       "    </tr>\n",
       "    <tr>\n",
       "      <th>26</th>\n",
       "      <td>9/28/2015 22:45:13</td>\n",
       "      <td>183.00</td>\n",
       "      <td>Normal</td>\n",
       "      <td>37</td>\n",
       "      <td>Chang</td>\n",
       "      <td>175</td>\n",
       "      <td>165</td>\n",
       "      <td>24</td>\n",
       "      <td>vim</td>\n",
       "    </tr>\n",
       "    <tr>\n",
       "      <th>27</th>\n",
       "      <td>9/28/2015 22:59:56</td>\n",
       "      <td>177.80</td>\n",
       "      <td>Normal</td>\n",
       "      <td>35</td>\n",
       "      <td>EF</td>\n",
       "      <td>175.26</td>\n",
       "      <td>175</td>\n",
       "      <td>37</td>\n",
       "      <td>lighttable</td>\n",
       "    </tr>\n",
       "    <tr>\n",
       "      <th>28</th>\n",
       "      <td>9/29/2015 7:26:41</td>\n",
       "      <td>179.00</td>\n",
       "      <td>Normal</td>\n",
       "      <td>41</td>\n",
       "      <td>David</td>\n",
       "      <td>177</td>\n",
       "      <td>165</td>\n",
       "      <td>45</td>\n",
       "      <td>emacs</td>\n",
       "    </tr>\n",
       "    <tr>\n",
       "      <th>29</th>\n",
       "      <td>9/29/2015 8:29:34</td>\n",
       "      <td>178.00</td>\n",
       "      <td>Normal</td>\n",
       "      <td>35</td>\n",
       "      <td>Boris</td>\n",
       "      <td>182</td>\n",
       "      <td>75</td>\n",
       "      <td>26</td>\n",
       "      <td>sublime</td>\n",
       "    </tr>\n",
       "    <tr>\n",
       "      <th>30</th>\n",
       "      <td>9/29/2015 8:48:16</td>\n",
       "      <td>182.00</td>\n",
       "      <td>Normal</td>\n",
       "      <td>35</td>\n",
       "      <td>Tobias</td>\n",
       "      <td>190</td>\n",
       "      <td>165</td>\n",
       "      <td>25</td>\n",
       "      <td>sublimetext</td>\n",
       "    </tr>\n",
       "    <tr>\n",
       "      <th>31</th>\n",
       "      <td>9/29/2015 9:58:25</td>\n",
       "      <td>177.00</td>\n",
       "      <td>Normal</td>\n",
       "      <td>38</td>\n",
       "      <td>Andrew</td>\n",
       "      <td>185</td>\n",
       "      <td>175</td>\n",
       "      <td>34</td>\n",
       "      <td>sublime</td>\n",
       "    </tr>\n",
       "    <tr>\n",
       "      <th>32</th>\n",
       "      <td>9/29/2015 9:59:48</td>\n",
       "      <td>170.00</td>\n",
       "      <td>Normal</td>\n",
       "      <td>45</td>\n",
       "      <td>V</td>\n",
       "      <td>168</td>\n",
       "      <td>175</td>\n",
       "      <td>32</td>\n",
       "      <td>emacs</td>\n",
       "    </tr>\n",
       "    <tr>\n",
       "      <th>33</th>\n",
       "      <td>9/29/2015 10:42:41</td>\n",
       "      <td>178.00</td>\n",
       "      <td>Normal</td>\n",
       "      <td>43</td>\n",
       "      <td>Nicole</td>\n",
       "      <td>171</td>\n",
       "      <td>170</td>\n",
       "      <td>26</td>\n",
       "      <td>text wrangler</td>\n",
       "    </tr>\n",
       "    <tr>\n",
       "      <th>34</th>\n",
       "      <td>9/29/2015 10:43:21</td>\n",
       "      <td>187.00</td>\n",
       "      <td>Normal</td>\n",
       "      <td>42</td>\n",
       "      <td>Kilian</td>\n",
       "      <td>176</td>\n",
       "      <td>168</td>\n",
       "      <td>25</td>\n",
       "      <td>ed</td>\n",
       "    </tr>\n",
       "    <tr>\n",
       "      <th>35</th>\n",
       "      <td>9/29/2015 10:49:10</td>\n",
       "      <td>170.00</td>\n",
       "      <td>Normal</td>\n",
       "      <td>38</td>\n",
       "      <td>Ewan</td>\n",
       "      <td>168</td>\n",
       "      <td>165</td>\n",
       "      <td>34</td>\n",
       "      <td>Emacs</td>\n",
       "    </tr>\n",
       "    <tr>\n",
       "      <th>36</th>\n",
       "      <td>9/30/2015 10:42:35</td>\n",
       "      <td>178.00</td>\n",
       "      <td>Normal</td>\n",
       "      <td>38</td>\n",
       "      <td>Rutger</td>\n",
       "      <td>183</td>\n",
       "      <td>176</td>\n",
       "      <td>32</td>\n",
       "      <td>vim</td>\n",
       "    </tr>\n",
       "    <tr>\n",
       "      <th>37</th>\n",
       "      <td>9/30/2015 14:36:06</td>\n",
       "      <td>185.00</td>\n",
       "      <td>Normal</td>\n",
       "      <td>45</td>\n",
       "      <td>Taisiya</td>\n",
       "      <td>171</td>\n",
       "      <td>160</td>\n",
       "      <td>26</td>\n",
       "      <td>TextWrangler</td>\n",
       "    </tr>\n",
       "  </tbody>\n",
       "</table>\n",
       "</div>"
      ],
      "text/plain": [
       "                     t  height      obesity  age      name ownheight  \\\n",
       "0   9/28/2015 17:32:57  185.00       Normal   40      John       172   \n",
       "1   9/28/2015 17:47:11  195.60       Normal   44       Lia       160   \n",
       "2   9/28/2015 17:52:27  185.00       Normal   37       NaN       182   \n",
       "3   9/28/2015 17:57:23  180.50       Normal   39   Rebecca       161   \n",
       "4   9/28/2015 18:02:57  180.00       Normal   40  Somebody       173   \n",
       "5   9/28/2015 18:03:04  171.00       Normal   38   Brendon       170   \n",
       "6   9/28/2015 18:03:29  185.00       Normal   41    Simeon       182   \n",
       "7   9/28/2015 18:04:00  190.00       Normal   40     Abbie       173   \n",
       "8   9/28/2015 18:04:06  180.00       Normal   40      Nina       160   \n",
       "9   9/28/2015 18:06:35  180.30  Underweight   36      Adam       188   \n",
       "10  9/28/2015 18:07:00  185.00       Normal   38       NaN       160   \n",
       "11  9/28/2015 18:10:13  170.00  Underweight   45       NaN       165   \n",
       "12  9/28/2015 18:11:49  179.00       Normal   46      Juan      1,72   \n",
       "13  9/28/2015 18:15:18  179.00       Normal   46      Juan       172   \n",
       "14  9/28/2015 18:18:24  186.00       Normal   47     Maria       155   \n",
       "15  9/28/2015 18:45:00  188.00       Normal   53       NaN       NaN   \n",
       "16  9/28/2015 19:15:31  178.00  Underweight   48    Herman       190   \n",
       "17  9/28/2015 20:07:22  184.00   Overweight   38      Kyle       178   \n",
       "18  9/28/2015 20:44:57  172.00   Overweight   39     Kelle       162   \n",
       "19  9/28/2015 21:07:19  170.00   Overweight   57       NaN       NaN   \n",
       "20  9/28/2015 21:37:17  190.00   Overweight   40      Dlug       196   \n",
       "21  9/28/2015 21:52:08  178.00  Underweight   38      Nick       182   \n",
       "22  9/28/2015 22:02:11  186.00   Overweight   38       NaN       163   \n",
       "23  9/28/2015 22:24:44  172.72       Normal   41       NaN       175   \n",
       "24  9/28/2015 22:31:21  174.00  Underweight   38      João       188   \n",
       "25  9/28/2015 22:32:00  178.00       Normal   39    Gilles       172   \n",
       "26  9/28/2015 22:45:13  183.00       Normal   37     Chang       175   \n",
       "27  9/28/2015 22:59:56  177.80       Normal   35        EF    175.26   \n",
       "28   9/29/2015 7:26:41  179.00       Normal   41     David       177   \n",
       "29   9/29/2015 8:29:34  178.00       Normal   35     Boris       182   \n",
       "30   9/29/2015 8:48:16  182.00       Normal   35    Tobias       190   \n",
       "31   9/29/2015 9:58:25  177.00       Normal   38    Andrew       185   \n",
       "32   9/29/2015 9:59:48  170.00       Normal   45         V       168   \n",
       "33  9/29/2015 10:42:41  178.00       Normal   43    Nicole       171   \n",
       "34  9/29/2015 10:43:21  187.00       Normal   42    Kilian       176   \n",
       "35  9/29/2015 10:49:10  170.00       Normal   38      Ewan       168   \n",
       "36  9/30/2015 10:42:35  178.00       Normal   38    Rutger       183   \n",
       "37  9/30/2015 14:36:06  185.00       Normal   45   Taisiya       171   \n",
       "\n",
       "    ownweight  ownage             editor  \n",
       "0         148      35            Sublime  \n",
       "1         130      31              emacs  \n",
       "2         178      28                vim  \n",
       "3         145      26  SUBLIME OBVIOUSLY  \n",
       "4         220      39                vim  \n",
       "5         150      32              gedit  \n",
       "6         120      31                vim  \n",
       "7         157      25       TextWrangler  \n",
       "8         121      32               Kate  \n",
       "9         160      31       textmate (?)  \n",
       "10        154      27               Eric  \n",
       "11        145      31              emacs  \n",
       "12        178      25                Vim  \n",
       "13        178      25                Vim  \n",
       "14        108      27              gedit  \n",
       "15        NaN     NaN              emacs  \n",
       "16        205      59       TextWrangler  \n",
       "17        155      34       All terrible  \n",
       "18        150      37           Textmate  \n",
       "19        NaN     NaN            Sublime  \n",
       "20        194      44              emacs  \n",
       "21        165      26              gedit  \n",
       "22        110      29                vim  \n",
       "23        150      35                 vi  \n",
       "24        187      25       Sublime Text  \n",
       "25         85      28                cat  \n",
       "26        165      24                vim  \n",
       "27        175      37         lighttable  \n",
       "28        165      45              emacs  \n",
       "29         75      26            sublime  \n",
       "30        165      25        sublimetext  \n",
       "31        175      34            sublime  \n",
       "32        175      32              emacs  \n",
       "33        170      26      text wrangler  \n",
       "34        168      25                 ed  \n",
       "35        165      34              Emacs  \n",
       "36        176      32                vim  \n",
       "37        160      26       TextWrangler  "
      ]
     },
     "execution_count": 3,
     "metadata": {},
     "output_type": "execute_result"
    }
   ],
   "source": [
    "names = data.columns.tolist()\n",
    "# names[1], names[2], names[3], names[4], names[5], names[6] = \"height\", \"obesity\", \"age\", \"ownheight\", \"ownweight\"\n",
    "names = (\"t\",\"height\",\"obesity\",\"age\",\"name\",\"ownheight\",\"ownweight\",\"ownage\",\"editor\")\n",
    "data.columns = names\n",
    "\n",
    "index = (data['obesity'] == 'Just right')\n",
    "data['obesity'][index] = 'Normal'\n",
    "\n",
    "data"
   ]
  },
  {
   "cell_type": "code",
   "execution_count": 33,
   "metadata": {
    "collapsed": false
   },
   "outputs": [],
   "source": [
    "import numpy as np\n",
    "hdata = np.array(data[\"height\"])\n",
    "bdata = np.array(data[\"obesity\"])\n",
    "phdata = np.array(data[\"ownheight\"])\n",
    "pwdata = np.array(data[\"ownweight\"])\n",
    "phdata[phdata == \"1,72\"] = 172"
   ]
  },
  {
   "cell_type": "code",
   "execution_count": 5,
   "metadata": {
    "collapsed": false
   },
   "outputs": [],
   "source": [
    "import matplotlib.pyplot as plt\n",
    "%matplotlib inline"
   ]
  },
  {
   "cell_type": "markdown",
   "metadata": {},
   "source": [
    "* What is the distribution of observed heights?"
   ]
  },
  {
   "cell_type": "code",
   "execution_count": 34,
   "metadata": {
    "collapsed": false
   },
   "outputs": [
    {
     "data": {
      "text/plain": [
       "(array([  6.,   2.,   1.,  12.,   3.,   7.,   3.,   3.,   0.,   1.]),\n",
       " array([ 170.  ,  172.56,  175.12,  177.68,  180.24,  182.8 ,  185.36,\n",
       "         187.92,  190.48,  193.04,  195.6 ]),\n",
       " <a list of 10 Patch objects>)"
      ]
     },
     "execution_count": 34,
     "metadata": {},
     "output_type": "execute_result"
    },
    {
     "data": {
      "image/png": "[encoded data removed]",
      "text/plain": [
       "<matplotlib.figure.Figure at 0x7f82dda76990>"
      ]
     },
     "metadata": {},
     "output_type": "display_data"
    }
   ],
   "source": [
    "plt.xlabel(\"Observed Height (cm)\")\n",
    "plt.hist(hdata)"
   ]
  },
  {
   "cell_type": "markdown",
   "metadata": {},
   "source": [
    "* Is there a correlation between weight and height in the population of observers?"
   ]
  },
  {
   "cell_type": "code",
   "execution_count": 35,
   "metadata": {
    "collapsed": false
   },
   "outputs": [
    {
     "data": {
      "text/plain": [
       "[<matplotlib.lines.Line2D at 0x7f82dd7d93d0>]"
      ]
     },
     "execution_count": 35,
     "metadata": {},
     "output_type": "execute_result"
    },
    {
     "data": {
      "image/png": "[encoded data removed]",
      "text/plain": [
       "<matplotlib.figure.Figure at 0x7f82dd93f450>"
      ]
     },
     "metadata": {},
     "output_type": "display_data"
    }
   ],
   "source": [
    "plt.xlabel(\"Own Weight (lb)\")\n",
    "plt.ylabel(\"Own Height (cm)\")\n",
    "plt.plot(phdata, pwdata, \"k.\")"
   ]
  },
  {
   "cell_type": "markdown",
   "metadata": {},
   "source": [
    "Other things to do:\n",
    "\n",
    "* Make `cornerplot` of all quantities of interest."
   ]
  },
  {
   "cell_type": "markdown",
   "metadata": {},
   "source": [
    "## 1.0 A First Model\n",
    "\n",
    "Let's assume:\n",
    "\n",
    "* Both the height $h^{\\rm obs}$ and obesity $b^{\\rm obs}$ data are uncertain (and so need sampling distributions assigned to them).\n",
    "\n",
    "\n",
    "* I have a true height $h$ and true weight $w$ that every *good* person would estimate faithfully, if they could: this means that we don't need any latent variables to describe perceived height and weight that would be distributed with intrinisc scatter across the observers.\n",
    "\n",
    "\n",
    "* Obesity $b$ is related to BMI via the sampling distribution ${\\rm Pr}(b|{\\rm BMI}) = U[\\alpha,\\beta]$, where:\n",
    "\n",
    "| $\\alpha$ | $\\beta$ | $b$           |\n",
    "|----------|---------|---------------|\n",
    "| 12.1     | 18.5    | \"Underweight\" |\n",
    "| 18.5     | 24.9    | \"Normal\"      |\n",
    "| 24.9     | 31.4    | \"Overweight\"  |\n",
    "\n",
    "\n",
    "* There is a proportion $P_{\\rm bad}$ of the observations that are *bad*: these come from uniform random number generators (e.g. in the range $160 < h_k < 200$)\n",
    "\n",
    "\n",
    "* True BMI is determined by $w$ and $h$ via BMI = $703\\,(w/{\\rm lbs})\\,({\\rm inches}/h)$"
   ]
  },
  {
   "cell_type": "markdown",
   "metadata": {},
   "source": [
    "### a initial guess of the result"
   ]
  },
  {
   "cell_type": "markdown",
   "metadata": {},
   "source": [
    "The probability distribution of obesity only cares which range the BMI is in. This means that it only gives information of which range of BMI is most likely and not the actual BMI value. So I the result would probably be very similar to weight range that correspond to the BMI range of 'Normal'.\n",
    "* mean height is around 180 cm\n",
    "* calculate what weights BMI 18.5 and 24.9 correspond to"
   ]
  },
  {
   "cell_type": "code",
   "execution_count": 231,
   "metadata": {
    "collapsed": false
   },
   "outputs": [
    {
     "data": {
      "text/plain": [
       "180.18210526315789"
      ]
     },
     "execution_count": 231,
     "metadata": {},
     "output_type": "execute_result"
    }
   ],
   "source": [
    "np.mean(hdata)"
   ]
  },
  {
   "cell_type": "code",
   "execution_count": 234,
   "metadata": {
    "collapsed": false
   },
   "outputs": [
    {
     "name": "stdout",
     "output_type": "stream",
     "text": [
      "lower weight bound = 132.026431718lbs\n",
      "upper weight bound = 177.700440529lbs\n",
      "mean weight close to 154.863436123lbs\n"
     ]
    }
   ],
   "source": [
    "print 'lower weight bound = ' + str(1.8**2*18.5/0.454) + 'lbs'\n",
    "print 'upper weight bound = ' + str(1.8**2*24.9/0.454) + 'lbs'\n",
    "print 'mean weight close to ' + str(1.8**2*(18.5+24.9)/2./0.454) + 'lbs'"
   ]
  },
  {
   "cell_type": "markdown",
   "metadata": {},
   "source": [
    "### PGM\n",
    "\n",
    "Let's draw the PGM with `daft`.\n",
    "* $w,h,\\sigma,a$ stands for weight, height, accuracy (of determining obesity), and error (of height estimation)\n",
    "* assume a Gaussian distribution for the weight estimation, with a width $\\sigma$.\n",
    "* perfect $P(b|BMI)$ should be delta functions, but if we just use delta functions, the resulting log likelihood would always be $-\\infty$\n",
    "* Therefore, we assign variable $a$ (stands for accuracy) to account for the error of determining obesity b from BMI.\n",
    "    * $a$ probability to have the correct obesity from the BMI\n",
    "    * $\\frac{(1-a)}{2}$ probability for each of the two incorrect obesity"
   ]
  },
  {
   "cell_type": "code",
   "execution_count": 230,
   "metadata": {
    "collapsed": false,
    "scrolled": false
   },
   "outputs": [
    {
     "data": {
      "image/png": "[encoded data removed]",
      "text/plain": [
       "<IPython.core.display.Image object>"
      ]
     },
     "execution_count": 230,
     "metadata": {},
     "output_type": "execute_result"
    }
   ],
   "source": [
    "#w is the weight\n",
    "#h is the height\n",
    "#a is the accuracy of determining the correct obesity (normal, underweight, or overweight)\n",
    "#probability a for having the correct b, (1-a)/2 for other two possibilities\n",
    "#\\sigma is the error of height estimation\n",
    "import fruitcake_pgm\n",
    "#fruitcake_pgm.draw()\n",
    "\n",
    "from IPython.display import Image\n",
    "Image(\"fruitcake_pgm.png\")"
   ]
  },
  {
   "cell_type": "markdown",
   "metadata": {},
   "source": [
    "### likelihood, prior, and posterior"
   ]
  },
  {
   "cell_type": "code",
   "execution_count": 214,
   "metadata": {
    "collapsed": true
   },
   "outputs": [],
   "source": [
    "#flat prior for all variables in a reasonable range\n",
    "def ln_prior(w,h,a,s):\n",
    "    wmin, wmax = 50, 300\n",
    "    hmin, hmax = 150, 200\n",
    "    amin, amax = 0.5, 1.0\n",
    "    smin, smax = 0.0, 30.0\n",
    "    if (w > wmin)*(w < wmax)*(h > hmin)*(h < hmax)*(a > amin)*(a < amax)*(s > smin)*(s < smax):\n",
    "        logp = 1.0\n",
    "    else:\n",
    "        logp = -np.inf\n",
    "    return logp\n",
    "\n",
    "#this gives the correct obesity given a BMI\n",
    "def correct_b(bmi):\n",
    "    if bmi <= 18.5:\n",
    "        return 'Underweight' #for underweight\n",
    "    if 18.5 < bmi < 24.9:\n",
    "        return 'Normal' #for normal\n",
    "    if 24.9 <= bmi:\n",
    "        return 'Overweight' #for overweight\n",
    "\n",
    "    \n",
    "def ln_likelihood(w,h,a,s):\n",
    "    bmi = 0.453529*w/(h/100.)**2\n",
    "    cb = correct_b(bmi)\n",
    "    #likelihood from the obesity\n",
    "    lnprob_b_list = np.zeros_like(bdata)\n",
    "    for i,b in enumerate(bdata):\n",
    "        if b == cb:\n",
    "            lnprob_b_list[i] = np.log(a)\n",
    "        else:\n",
    "            lnprob_b_list[i] = np.log((1. - a)/2.)\n",
    "    lnprob_b = np.sum(lnprob_b_list)\n",
    "    #likelihood from the height\n",
    "    lnprob_h_list = np.zeros_like(hdata, dtype='float32')\n",
    "    for i,hh in enumerate(hdata):\n",
    "        lnprob_h_list[i] = np.log(1/(np.sqrt(2*np.pi)*s)*np.exp(-(h - hh)**2/(2.*s**2)))\n",
    "    lnprob_h = np.sum(lnprob_h_list)\n",
    "    return lnprob_b + lnprob_h\n",
    "    \n",
    "def ln_posterior(par_list):\n",
    "    w,h,a,s = par_list\n",
    "    return ln_likelihood(w,h,a,s) + ln_prior(w,h,a,s)\n",
    "    "
   ]
  },
  {
   "cell_type": "markdown",
   "metadata": {},
   "source": [
    "### do a simple MCMC sampling"
   ]
  },
  {
   "cell_type": "code",
   "execution_count": 40,
   "metadata": {
    "collapsed": true
   },
   "outputs": [],
   "source": [
    "import numpy.random"
   ]
  },
  {
   "cell_type": "code",
   "execution_count": 239,
   "metadata": {
    "collapsed": false
   },
   "outputs": [
    {
     "name": "stdout",
     "output_type": "stream",
     "text": [
      "0.6622\n"
     ]
    }
   ],
   "source": [
    "#simple MCMC sampler\n",
    "Nsample = 50000\n",
    "steps = np.array([1.,1.,0.01,0.2])\n",
    "\n",
    "w_cur = 150.\n",
    "h_cur = 180.\n",
    "a_cur = 0.8\n",
    "s_cur = 6.5\n",
    "par_cur = np.array([w_cur, h_cur, a_cur, s_cur])\n",
    "prob_cur = ln_posterior(par_cur)\n",
    "\n",
    "samples = np.zeros((Nsample,4))\n",
    "accept = 0\n",
    "for i in xrange(Nsample):\n",
    "    par = par_cur + np.array([steps[k]*np.random.randn() for k in range(4)])\n",
    "    prob = ln_posterior(par)\n",
    "    if np.exp(prob - prob_cur) > np.random.rand():\n",
    "        par_cur = par\n",
    "        prob_cur = prob\n",
    "        accept += 1\n",
    "    samples[i] = par_cur\n",
    "print accept/float(Nsample)"
   ]
  },
  {
   "cell_type": "code",
   "execution_count": 248,
   "metadata": {
    "collapsed": false,
    "scrolled": false
   },
   "outputs": [
    {
     "data": {
      "image/png": "[encoded data removed]",
      "text/plain": [
       "<matplotlib.figure.Figure at 0x7f82cd3addd0>"
      ]
     },
     "metadata": {},
     "output_type": "display_data"
    }
   ],
   "source": [
    "import corner\n",
    "\n",
    "burnin = Nsample/10\n",
    "wmin, wmax = 100, 200\n",
    "hmin, hmax = 170, 190\n",
    "amin, amax = 0.5, 1.0\n",
    "smin, smax = 4.0, 10.0\n",
    "corner.corner(samples[burnin:], labels=['w','h','a','s'],range = [(wmin,wmax),(hmin,hmax),(amin,amax),(smin,smax)]\n",
    "                ,show_titles=True, title_args={\"fontsize\": 12},\n",
    "                plot_datapoints=False, fill_contours=True, levels=[0.68, 0.95], color='b', bins=40, smooth=1.0);\n",
    "plt.show()\n"
   ]
  },
  {
   "cell_type": "code",
   "execution_count": 244,
   "metadata": {
    "collapsed": false
   },
   "outputs": [
    {
     "name": "stdout",
     "output_type": "stream",
     "text": [
      "weight: \n",
      "161.585120224 +- 11.8249819948\n",
      "height: \n",
      "180.221138092 +- 1.04125120284\n",
      "mean accuracy: \n",
      "0.724915567648\n",
      "sigma: \n",
      "6.48417747697\n"
     ]
    }
   ],
   "source": [
    "#mean weight\n",
    "print 'weight: '\n",
    "print str(np.mean(samples[burnin:,0])) + ' +- ' + str(np.std(samples[burnin:,0]))\n",
    "\n",
    "#mean height\n",
    "print 'height: '\n",
    "print str(np.mean(samples[burnin:,1])) + ' +- ' + str(np.std(samples[burnin:,1]))\n",
    "\n",
    "#a\n",
    "print 'mean accuracy: '\n",
    "print np.mean(samples[burnin:,2])\n",
    "\n",
    "#sigma\n",
    "print 'sigma: '\n",
    "print np.mean(samples[burnin:, 3])"
   ]
  },
  {
   "cell_type": "markdown",
   "metadata": {},
   "source": [
    "# 1.1 dealing with outliers"
   ]
  },
  {
   "cell_type": "code",
   "execution_count": null,
   "metadata": {
    "collapsed": false
   },
   "outputs": [],
   "source": [
    "ph, pw = list(ph), list(pw)\n",
    "ph.pop(15)\n",
    "ph.pop(18)\n",
    "pw.pop(15)\n",
    "pw.pop(18)\n",
    "\n",
    "ph, pw = np.array(ph), np.array(pw)\n",
    "print len(ph), len(pw)\n",
    "\n",
    "AT = np.vstack((pw, np.ones(len(pw))))\n",
    "ATA = np.dot(AT, AT.T)\n",
    "m, c = np.linalg.solve(ATA, np.dot(AT, ph))"
   ]
  },
  {
   "cell_type": "code",
   "execution_count": 184,
   "metadata": {
    "collapsed": false
   },
   "outputs": [],
   "source": [
    "import corner"
   ]
  },
  {
   "cell_type": "code",
   "execution_count": null,
   "metadata": {
    "collapsed": true
   },
   "outputs": [],
   "source": []
  }
 ],
 "metadata": {
  "kernelspec": {
   "display_name": "Python 2",
   "language": "python",
   "name": "python2"
  },
  "language_info": {
   "codemirror_mode": {
    "name": "ipython",
    "version": 2
   },
   "file_extension": ".py",
   "mimetype": "text/x-python",
   "name": "python",
   "nbconvert_exporter": "python",
   "pygments_lexer": "ipython2",
   "version": "2.7.10"
  }
 },
 "nbformat": 4,
 "nbformat_minor": 0
}
